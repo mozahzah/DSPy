{
 "cells": [
  {
   "cell_type": "code",
   "execution_count": null,
   "metadata": {},
   "outputs": [],
   "source": [
    "# SPDX-License-Identifier: GPL-2.0-only\n",
    "# Copyright © Interactive Echoes. All rights reserved.\n",
    "# Author: mozahzah\n",
    "\n",
    "import sys\n",
    "sys.path.append('../Source')\n",
    "\n",
    "import oscillator as osc\n",
    "import filter as flt\n",
    "\n",
    "sampleRate = 48000\n",
    "oscFrequency = 4\n",
    "amplitude = 6\n",
    "bufferSize = 512\n",
    "timeSecond = 1\n",
    "\n",
    "filterOrder = bufferSize*10\n",
    "fwhm = bufferSize*6\n",
    "\n",
    "oscillator_instance = osc.oscillator(sampleRate)\n",
    "signal = oscillator_instance.make_sine_signal(oscFrequency, amplitude, 0, timeSecond, False)\n",
    "\n",
    "filter_instance = flt.filter(sampleRate, filterOrder)\n",
    "filteredSignal = filter_instance.get_median_filtered_signal(signal, 2)\n",
    "filter_instance.draw_filtered_signal(filteredSignal)\n"
   ]
  }
 ],
 "metadata": {
  "kernelspec": {
   "display_name": ".venv",
   "language": "python",
   "name": "python3"
  },
  "language_info": {
   "codemirror_mode": {
    "name": "ipython",
    "version": 3
   },
   "file_extension": ".py",
   "mimetype": "text/x-python",
   "name": "python",
   "nbconvert_exporter": "python",
   "pygments_lexer": "ipython3",
   "version": "3.13.1"
  }
 },
 "nbformat": 4,
 "nbformat_minor": 2
}
